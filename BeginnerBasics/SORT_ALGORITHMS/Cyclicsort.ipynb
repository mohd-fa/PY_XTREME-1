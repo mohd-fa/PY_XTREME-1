{
  "nbformat": 4,
  "nbformat_minor": 0,
  "metadata": {
    "colab": {
      "provenance": [],
      "authorship_tag": "ABX9TyMolNx2TcGsC52dHEOC0TPL",
      "include_colab_link": true
    },
    "kernelspec": {
      "name": "python3",
      "display_name": "Python 3"
    },
    "language_info": {
      "name": "python"
    }
  },
  "cells": [
    {
      "cell_type": "markdown",
      "metadata": {
        "id": "view-in-github",
        "colab_type": "text"
      },
      "source": [
        "<a href=\"https://colab.research.google.com/github/aryan-anil/PY_XTREME/blob/a2/BeginnerBasics/SORT_ALGORITHMS/Cyclicsort.ipynb\" target=\"_parent\"><img src=\"https://colab.research.google.com/assets/colab-badge.svg\" alt=\"Open In Colab\"/></a>"
      ]
    },
    {
      "cell_type": "code",
      "execution_count": 8,
      "metadata": {
        "colab": {
          "base_uri": "https://localhost:8080/"
        },
        "id": "e0Grkl0EszT7",
        "outputId": "6b53a4c7-42cd-4541-eba9-a55fcf2eb27b"
      },
      "outputs": [
        {
          "output_type": "stream",
          "name": "stdout",
          "text": [
            "[1, 2, 3, 4, 5]\n"
          ]
        }
      ],
      "source": [
        "# Python program to implement cycle sort\n",
        "\n",
        "def cycleSort(array):\n",
        "  i=0\n",
        "  while(i<len(array)):\n",
        "    correct_index = array[i]-1\n",
        "    if(array[i]!=array[correct_index]):\n",
        "      swap(i,correct_index,array)\n",
        "    else:\n",
        "      i+=1\n",
        "def swap(i1,i2,array):\n",
        "  temp=array[i1]\n",
        "  array[i1]=array[i2]\n",
        "  array[i2]=temp\n",
        "\n",
        "arr = [2,3,4,5,1]\n",
        "cycleSort(arr)\n",
        "print(arr)\n",
        "\n",
        "\n",
        "\n",
        "\n"
      ]
    }
  ]
}