{
  "nbformat": 4,
  "nbformat_minor": 0,
  "metadata": {
    "colab": {
      "provenance": [],
      "authorship_tag": "ABX9TyOo6kRK+bwoUPHrTkDf8n2t",
      "include_colab_link": true
    },
    "kernelspec": {
      "name": "python3",
      "display_name": "Python 3"
    },
    "language_info": {
      "name": "python"
    }
  },
  "cells": [
    {
      "cell_type": "markdown",
      "metadata": {
        "id": "view-in-github",
        "colab_type": "text"
      },
      "source": [
        "<a href=\"https://colab.research.google.com/github/aryan-anil/PY_XTREME/blob/main/Datetime/timestamp.ipynb\" target=\"_parent\"><img src=\"https://colab.research.google.com/assets/colab-badge.svg\" alt=\"Open In Colab\"/></a>"
      ]
    },
    {
      "cell_type": "code",
      "source": [
        "#date from timestamp\n",
        "\n",
        "\n",
        "import datetime\n",
        "import time\n",
        "\n",
        "Todays_time = time.time()\n",
        "\n",
        "print(Todays_time)\n",
        "\n",
        "\n",
        "# Calling the fromtimestamp() to get date from Todays_time\n",
        "date_From_CurrentTime = datetime.date.fromtimestamp(Todays_time);\n",
        "\n",
        "# Printing the current date\n",
        "print(\"Date for the Timestamp is: \",date_From_CurrentTime);\n"
      ],
      "metadata": {
        "colab": {
          "base_uri": "https://localhost:8080/"
        },
        "id": "xEAA7MHFn_W8",
        "outputId": "5d9e7263-b4e1-44a8-9fc6-56cafb200b17"
      },
      "execution_count": 32,
      "outputs": [
        {
          "output_type": "stream",
          "name": "stdout",
          "text": [
            "1671877037.699698\n",
            "Date for the Timestamp is:  2022-12-24\n"
          ]
        }
      ]
    }
  ]
}